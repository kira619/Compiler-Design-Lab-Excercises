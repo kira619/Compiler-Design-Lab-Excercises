{
  "nbformat": 4,
  "nbformat_minor": 0,
  "metadata": {
    "colab": {
      "name": "019_CD_Exp11.ipynb",
      "provenance": []
    },
    "kernelspec": {
      "name": "python3",
      "display_name": "Python 3"
    },
    "language_info": {
      "name": "python"
    }
  },
  "cells": [
    {
      "cell_type": "code",
      "metadata": {
        "colab": {
          "base_uri": "https://localhost:8080/"
        },
        "id": "oBONE6nIEuqS",
        "outputId": "84f0351c-83a1-4788-99c6-35def3e476a8"
      },
      "source": [
        "gram = {\n",
        "\t\"E\":[\"E+E\",\"E*E\",\"a\",\"b\"]\n",
        "}\n",
        "starting_terminal = \"E\"\n",
        "inp = \"a+b$\"\n",
        "stack = \"$\"\n",
        "print(f'{\"Stack\": <15}'+\"|\"+f'{\"Input Buffer\": <15}'+\"|\"+f'Parsing Action')\n",
        "print(f'{\"-\":-<50}')\n",
        "\n",
        "while True:\n",
        "\taction = True\n",
        "\ti = 0\n",
        "\twhile i<len(gram[starting_terminal]):\n",
        "\t\tif gram[starting_terminal][i] in stack:\n",
        "\t\t\tstack = stack.replace(gram[starting_terminal][i],starting_terminal)\n",
        "\t\t\tprint(f'{stack: <15}'+\"|\"+f'{inp: <15}'+\"|\"+f'Reduce E->{gram[starting_terminal][i]}')\n",
        "\t\t\ti=-1\n",
        "\t\t\taction = False\n",
        "\t\ti+=1\n",
        "\tif len(inp)>1:\n",
        "\t\tstack+=inp[0]\n",
        "\t\tinp=inp[1:]\n",
        "\t\tprint(f'{stack: <15}'+\"|\"+f'{inp: <15}'+\"|\"+f'Shift')\n",
        "\t\taction = False\n",
        "\n",
        "\tif inp == \"$\" and stack == (\"$\"+starting_terminal):\n",
        "\t\tprint(f'{stack: <15}'+\"|\"+f'{inp: <15}'+\"|\"+f'Accepted')\n",
        "\t\tbreak\n",
        "\n",
        "\tif action:\n",
        "\t\tprint(f'{stack: <15}'+\"|\"+f'{inp: <15}'+\"|\"+f'Rejected')\n",
        "\t\tbreak"
      ],
      "execution_count": 8,
      "outputs": [
        {
          "output_type": "stream",
          "text": [
            "Stack          |Input Buffer   |Parsing Action\n",
            "--------------------------------------------------\n",
            "$a             |+b$            |Shift\n",
            "$E             |+b$            |Reduce E->a\n",
            "$E+            |b$             |Shift\n",
            "$E+b           |$              |Shift\n",
            "$E+E           |$              |Reduce E->b\n",
            "$E             |$              |Reduce E->E+E\n",
            "$E             |$              |Accepted\n"
          ],
          "name": "stdout"
        }
      ]
    }
  ]
}