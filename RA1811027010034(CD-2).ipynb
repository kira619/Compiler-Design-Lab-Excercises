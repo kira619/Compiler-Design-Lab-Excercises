{
 "cells": [
  {
   "cell_type": "code",
   "execution_count": 36,
   "metadata": {},
   "outputs": [
    {
     "name": "stdout",
     "output_type": "stream",
     "text": [
      "SIMULATION OF NFA\n",
      ":(((((((((((())))))))))))):\n",
      "Enter the regular expression: a*b\n",
      "0 1 2 3 4 \n",
      "___________________________________\n",
      "   E    E    |0\n",
      "     a      |1\n",
      "   E    E    |2\n",
      "         b  |3\n",
      "           |4\n",
      "Final state: 4\n"
     ]
    }
   ],
   "source": [
    "arr = [[0,0,0,0,0,0,0,0,0,0] for i in range(11)]\n",
    "r = c = 0\n",
    "print(\"SIMULATION OF NFA\")\n",
    "print(\":(((((((((((())))))))))))):\")\n",
    "for i in range(10):\n",
    "    for j in range(10):\n",
    "        arr[i][j] = ''\n",
    "exp = input(\"Enter the regular expression: \")\n",
    "length = len(exp)\n",
    "for i in range(length-1):\n",
    "    if exp[i]=='|':\n",
    "        arr[r][r+1] = 'E'\n",
    "        arr[r+1][r+2] = exp[i-1]\n",
    "        arr[r+2][r+5] = 'E'\n",
    "        arr[r][r+3] = 'E'\n",
    "        arr[r+4][r+5] = 'E'\n",
    "        arr[r+3][r+4] = exp[i+1]\n",
    "        r = r+5\n",
    "    elif exp[i]=='*':\n",
    "        arr[r-1][r] = 'E'\n",
    "        arr[r][r+1] = 'E'\n",
    "        arr[r][r+3] = 'E'\n",
    "        arr[r+1][r+2] = exp[i-1]\n",
    "        arr[r+2][r+1] = 'E'\n",
    "        arr[r+2][r+3] = 'E'\n",
    "        r = r+3\n",
    "    elif exp[i]=='+':\n",
    "        arr[r][r+1] = exp[i-1]\n",
    "        arr[r+1][r] = 'E'\n",
    "        r = r+1\n",
    "    if c==0:\n",
    "        if exp[i].isalpha() and exp[i+1].isalpha():\n",
    "            arr[r][r+1] = exp[i]\n",
    "            arr[r+1][r+2] = exp[i+1]\n",
    "            r=r+2\n",
    "            c = 1\n",
    "        c=1\n",
    "    elif c==1:\n",
    "        if exp[i+1].isalpha():\n",
    "            arr[r][r+1] = exp[i+1]\n",
    "            r = r+1\n",
    "            c=2\n",
    "    else:\n",
    "        if exp[i+1].isalpha():\n",
    "            arr[r][r+1] = exp[i+1]\n",
    "            r=r+1\n",
    "            c=3\n",
    "for j in range(r+1):\n",
    "    print(j,end = ' ')\n",
    "print()\n",
    "print(\"___________________________________\")\n",
    "for i in range(r+1):\n",
    "    for j in range(r+1):\n",
    "        print('',arr[i][j],end = ' ')\n",
    "    print(\" |{}\".format(i))\n",
    "print(\"Final state: {}\".format(i))"
   ]
  },
  {
   "cell_type": "code",
   "execution_count": 2,
   "metadata": {},
   "outputs": [
    {
     "data": {
      "text/plain": [
       "[[], [], [], [], [], [], [], [], [], []]"
      ]
     },
     "execution_count": 2,
     "metadata": {},
     "output_type": "execute_result"
    }
   ],
   "source": []
  },
  {
   "cell_type": "code",
   "execution_count": null,
   "metadata": {},
   "outputs": [],
   "source": []
  }
 ],
 "metadata": {
  "kernelspec": {
   "display_name": "Python 3",
   "language": "python",
   "name": "python3"
  },
  "language_info": {
   "codemirror_mode": {
    "name": "ipython",
    "version": 3
   },
   "file_extension": ".py",
   "mimetype": "text/x-python",
   "name": "python",
   "nbconvert_exporter": "python",
   "pygments_lexer": "ipython3",
   "version": "3.7.6"
  }
 },
 "nbformat": 4,
 "nbformat_minor": 4
}
