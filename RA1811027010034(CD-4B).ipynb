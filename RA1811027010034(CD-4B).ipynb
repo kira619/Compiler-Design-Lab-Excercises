{
 "cells": [
  {
   "cell_type": "code",
   "execution_count": 4,
   "metadata": {},
   "outputs": [
    {
     "name": "stdout",
     "output_type": "stream",
     "text": [
      "Enter the number of expressions present: 2\n",
      "Enter the string in the format of NT-T/NT: A-aAB/aA\n",
      "Enter the string in the format of NT-T/NT: B-bB/b\n",
      "A->aA'\n",
      "A'->A/AB\n",
      "B->bB'\n",
      "B'->e/B\n"
     ]
    }
   ],
   "source": [
    "n = int(input('Enter the number of expressions present: '))\n",
    "arr = []\n",
    "while(n):\n",
    "    arr.append(input('Enter the string in the format of NT-T/NT: '))\n",
    "    n-=1\n",
    "\n",
    "for item in arr:\n",
    "    x=2\n",
    "    for i in range(len(item)):\n",
    "        if item[i]=='/' and item[i+1]==item[x]:\n",
    "            b = item[i+2:]\n",
    "            g = item[x+1:i]\n",
    "            if b=='':\n",
    "                b='e'\n",
    "            if g=='':\n",
    "                g='e'\n",
    "            print(item[0]+'->'+item[x]+item[0]+\"'\")\n",
    "            print(item[0]+\"'\"+'->'+b+'/'+g)\n",
    "            x = i+1\n",
    "        elif item[i]=='/' and item[i+1]!=item[x]:\n",
    "            x=i+1"
   ]
  },
  {
   "cell_type": "code",
   "execution_count": null,
   "metadata": {},
   "outputs": [],
   "source": []
  }
 ],
 "metadata": {
  "kernelspec": {
   "display_name": "Python 3",
   "language": "python",
   "name": "python3"
  },
  "language_info": {
   "codemirror_mode": {
    "name": "ipython",
    "version": 3
   },
   "file_extension": ".py",
   "mimetype": "text/x-python",
   "name": "python",
   "nbconvert_exporter": "python",
   "pygments_lexer": "ipython3",
   "version": "3.7.6"
  }
 },
 "nbformat": 4,
 "nbformat_minor": 4
}
