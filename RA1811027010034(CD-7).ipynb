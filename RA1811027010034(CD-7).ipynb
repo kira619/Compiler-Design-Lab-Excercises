{
  "nbformat": 4,
  "nbformat_minor": 0,
  "metadata": {
    "colab": {
      "name": "019_CD_Lead&Trail.ipynb",
      "provenance": []
    },
    "kernelspec": {
      "name": "python3",
      "display_name": "Python 3"
    },
    "language_info": {
      "name": "python"
    }
  },
  "cells": [
    {
      "cell_type": "code",
      "metadata": {
        "colab": {
          "base_uri": "https://localhost:8080/"
        },
        "id": "z09ja69uQGHD",
        "outputId": "ea75e109-25ef-4a78-aa61-42ad01618a4e"
      },
      "source": [
        "a = [\"E=E+T\",\n",
        "     \"E=T\",\n",
        "     \"T=T*F\",\n",
        "     \"T=F\",\n",
        "     \"F=(E)\",\n",
        "     \"F=i\"]\n",
        "\n",
        "rules = {}\n",
        "terms = []\n",
        "for i in a:\n",
        "    temp = i.split(\"=\")\n",
        "    terms.append(temp[0])\n",
        "    try:\n",
        "        rules[temp[0]] += [temp[1]]\n",
        "    except:\n",
        "        rules[temp[0]] = [temp[1]]\n",
        "\n",
        "terms = list(set(terms))\n",
        "print(rules,terms)\n",
        "def leading(gram, rules, term, start):\n",
        "    s = []\n",
        "    if gram[0] not in terms:\n",
        "        return gram[0]\n",
        "    elif len(gram) == 1:\n",
        "        return [0]\n",
        "    elif gram[1] not in terms and gram[-1] is not start:\n",
        "        for i in rules[gram[-1]]:\n",
        "            s+= leading(i, rules, gram[-1], start)\n",
        "            s+= [gram[1]]\n",
        "        return s    \n",
        "def trailing(gram, rules, term, start):\n",
        "    s = []\n",
        "    if gram[-1] not in terms:\n",
        "        return gram[-1]\n",
        "    elif len(gram) == 1:\n",
        "        return [0]\n",
        "    elif gram[-2] not in terms and gram[-1] is not start:\n",
        "\n",
        "        for i in rules[gram[-1]]:\n",
        "            s+= trailing(i, rules, gram[-1], start)\n",
        "            s+= [gram[-2]]\n",
        "        return s\n",
        "leads = {}\n",
        "trails = {}\n",
        "for i in terms:\n",
        "    s = [0]\n",
        "    for j in rules[i]:\n",
        "        s+=leading(j,rules,i,i)\n",
        "    s = set(s)\n",
        "    s.remove(0)\n",
        "    leads[i] = s\n",
        "    s = [0]\n",
        "    for j in rules[i]:\n",
        "        s+=trailing(j,rules,i,i)\n",
        "    s = set(s)\n",
        "    s.remove(0)\n",
        "    trails[i] = s\n",
        "\n",
        "for i in terms:\n",
        "    print(\"LEADING(\"+i+\"):\",leads[i])\n",
        "for i in terms:\n",
        "    print(\"TRAILING(\"+i+\"):\",trails[i])"
      ],
      "execution_count": 1,
      "outputs": [
        {
          "output_type": "stream",
          "text": [
            "{'E': ['E+T', 'T'], 'T': ['T*F', 'F'], 'F': ['(E)', 'i']} ['F', 'E', 'T']\n",
            "LEADING(F): {'i', '('}\n",
            "LEADING(E): {'(', 'i', '*', '+'}\n",
            "LEADING(T): {'*', 'i', '('}\n",
            "TRAILING(F): {')', 'i'}\n",
            "TRAILING(E): {'i', '*', ')', '+'}\n",
            "TRAILING(T): {'*', ')', 'i'}\n"
          ],
          "name": "stdout"
        }
      ]
    }
  ]
}