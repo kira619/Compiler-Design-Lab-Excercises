{
 "cells": [
  {
   "cell_type": "code",
   "execution_count": 13,
   "metadata": {},
   "outputs": [],
   "source": [
    "import os\n",
    "#Create the file in documents folder\n",
    "def create(name):\n",
    "    file = open(r\"C:\\Users\\USER\\k.i.r.a@619\\{}\".format(name),'w')\n",
    "    file.close()\n",
    "    \n",
    "#Write in the file or overwrite the content in the file\n",
    "def write(name):\n",
    "    file = open(r\"C:\\Users\\USER\\k.i.r.a@619\\{}\".format(name),'w')\n",
    "    matter = input()\n",
    "    file.write(matter)\n",
    "    file.close()\n",
    "    \n",
    "#In python edits for the text file in between cannot be done \n",
    "#without rewriting so we replace the required items with empty string Or any replacement can be done\n",
    "\n",
    "#Give n=-1 if you want to replace or remove ot every where it appears\n",
    "def edit(name, delstring, replacement,n):\n",
    "    file = open(r\"C:\\Users\\USER\\k.i.r.a@619\\{}\".format(name),'r')\n",
    "    matter = file.read()\n",
    "    file.close()\n",
    "    if n!=-1:\n",
    "        matter = matter.replace(delstring,replacement,n)\n",
    "    else:\n",
    "        matter = matter.replace(delstring,replacement)\n",
    "    file = open(r\"C:\\Users\\USER\\k.i.r.a@619\\{}\".format(name),'w')\n",
    "    file.write(matter)\n",
    "    file.close()\n",
    "    \n",
    "#Delete the file permanantly and make sure it is not being opened anywhere before deleting\n",
    "def delete(name):\n",
    "     os.remove(r\"C:\\Users\\USER\\k.i.r.a@619\\{}\".format(name))\n",
    "\n",
    "#Add content to the file without overwriting\n",
    "def append(name):\n",
    "    file = open(r\"C:\\Users\\USER\\k.i.r.a@619\\{}\".format(name),'a+')\n",
    "    matter = input()\n",
    "    file.write(matter)\n",
    "    file.close()\n",
    "\n",
    "#Read and display the content in the file\n",
    "def read(name):\n",
    "    file = open(r\"C:\\Users\\USER\\k.i.r.a@619\\{}\".format(name),'r')\n",
    "    matter = file.read()\n",
    "    print(matter)"
   ]
  },
  {
   "cell_type": "code",
   "execution_count": 15,
   "metadata": {},
   "outputs": [],
   "source": [
    "create('tamo1.txt')"
   ]
  },
  {
   "cell_type": "code",
   "execution_count": 16,
   "metadata": {},
   "outputs": [
    {
     "name": "stdout",
     "output_type": "stream",
     "text": [
      "RA1811027010034\n"
     ]
    }
   ],
   "source": [
    "write('tamo1.txt')"
   ]
  },
  {
   "cell_type": "code",
   "execution_count": 17,
   "metadata": {},
   "outputs": [
    {
     "name": "stdout",
     "output_type": "stream",
     "text": [
      "RA1811027010034\n"
     ]
    }
   ],
   "source": [
    "read('tamo1.txt')"
   ]
  },
  {
   "cell_type": "code",
   "execution_count": 18,
   "metadata": {},
   "outputs": [],
   "source": [
    "edit('tamo1.txt','34','00 Tamojit',-1)"
   ]
  },
  {
   "cell_type": "code",
   "execution_count": 19,
   "metadata": {},
   "outputs": [
    {
     "name": "stdout",
     "output_type": "stream",
     "text": [
      "RA1811027010000 Tamojit\n"
     ]
    }
   ],
   "source": [
    "read('tamo1.txt')"
   ]
  },
  {
   "cell_type": "code",
   "execution_count": 20,
   "metadata": {},
   "outputs": [],
   "source": [
    "edit('tamo1.txt','Tamojit','',-1)"
   ]
  },
  {
   "cell_type": "code",
   "execution_count": 21,
   "metadata": {},
   "outputs": [
    {
     "name": "stdout",
     "output_type": "stream",
     "text": [
      "RA1811027010000 \n"
     ]
    }
   ],
   "source": [
    "read('tamo1.txt')"
   ]
  },
  {
   "cell_type": "code",
   "execution_count": 22,
   "metadata": {},
   "outputs": [
    {
     "name": "stdout",
     "output_type": "stream",
     "text": [
      "k.i.r.a@619\n"
     ]
    }
   ],
   "source": [
    "append('tamo1.txt')"
   ]
  },
  {
   "cell_type": "code",
   "execution_count": 23,
   "metadata": {},
   "outputs": [
    {
     "name": "stdout",
     "output_type": "stream",
     "text": [
      "RA1811027010000 k.i.r.a@619\n"
     ]
    }
   ],
   "source": [
    "read('tamo1.txt')"
   ]
  },
  {
   "cell_type": "code",
   "execution_count": 24,
   "metadata": {},
   "outputs": [],
   "source": [
    "delete('tamo1.txt')"
   ]
  },
  {
   "cell_type": "code",
   "execution_count": null,
   "metadata": {},
   "outputs": [],
   "source": []
  }
 ],
 "metadata": {
  "kernelspec": {
   "display_name": "Python 3",
   "language": "python",
   "name": "python3"
  },
  "language_info": {
   "codemirror_mode": {
    "name": "ipython",
    "version": 3
   },
   "file_extension": ".py",
   "mimetype": "text/x-python",
   "name": "python",
   "nbconvert_exporter": "python",
   "pygments_lexer": "ipython3",
   "version": "3.7.6"
  }
 },
 "nbformat": 4,
 "nbformat_minor": 4
}
